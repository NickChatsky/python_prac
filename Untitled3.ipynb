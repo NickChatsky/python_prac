{
 "cells": [
  {
   "cell_type": "markdown",
   "metadata": {},
   "source": [
    "### Домашнее задание №3"
   ]
  },
  {
   "cell_type": "code",
   "execution_count": null,
   "metadata": {},
   "outputs": [],
   "source": [
    "Никита Теплоухов"
   ]
  },
  {
   "cell_type": "code",
   "execution_count": null,
   "metadata": {},
   "outputs": [],
   "source": [
    "test_data = [\n",
    "    (\"Москва,Мясницкая,20\", [\"Москва\", \"Мясницкая\", \"20\"]),\n",
    "    (\"Санкт-Петербург,Кантемировская,3\", [\"Санкт-Петербург\", \"Кантемировская\", \"3\"]),\n",
    "    (\"Пермь,Студенческая,38\", [\"Пермь\", \"Студенческая\", \"38\"])]"
   ]
  },
  {
   "cell_type": "markdown",
   "metadata": {},
   "source": [
    "    #### Zadanie 1"
   ]
  },
  {
   "cell_type": "code",
   "execution_count": null,
   "metadata": {},
   "outputs": [],
   "source": [
    "def address():\n",
    "    adr = input(\"Введите Ваш адрес: \")\n",
    "    adr_list = adr.split()\n",
    "    a = adr_list[0]\n",
    "    d = adr_list[1]\n",
    "    r = adr_list[2]\n",
    "    print(\"Ваш город:\", a)\n",
    "    print(\"Ваша улица:\", d)\n",
    "    print(\"Ваш дом:\", r)\n",
    "address()"
   ]
  },
  {
   "cell_type": "markdown",
   "metadata": {},
   "source": [
    "    #### Zadanie 2"
   ]
  },
  {
   "cell_type": "code",
   "execution_count": null,
   "metadata": {},
   "outputs": [],
   "source": [
    "def station():\n",
    "    station = [\"Третьяковская\", \"Марксистская\", \"Площадь Ильича\", \"Авиамоторная\", \"Шоссе Энтузиастов\", \"Перово\", \"Новогиреево\", \"Новокосино\"]\n",
    "    a = input(\"Введите станцию: \")\n",
    "    if a == \"Новокосино\":\n",
    "        print(\"Это конечная станция\")\n",
    "    b = station.index(a)\n",
    "    c = b + 1\n",
    "    print(\"Следующая станция\",line[c])\n",
    "station()"
   ]
  },
  {
   "cell_type": "markdown",
   "metadata": {},
   "source": [
    "    #### Zadanie 3"
   ]
  },
  {
   "cell_type": "code",
   "execution_count": null,
   "metadata": {},
   "outputs": [],
   "source": [
    "def phone():\n",
    "    tel = input(\"Введите ваш номер телефона в формате X-XXX-XXX-XX-XX: \")\n",
    "    tl_list = tel.split(\"-\")\n",
    "    t2 = tl_list[1]\n",
    "    t3 = tl_list[2]\n",
    "    t4 = tl_list[3]\n",
    "    t5 = tl_list[4]\n",
    "    tl_list.append(\"(\")\n",
    "    tl_list.append(\")\")\n",
    "    tl_list.append(\"-\")\n",
    "    tl_list.append(\"-\")\n",
    "    tl_list[1] = \"(\"\n",
    "    tl_list[2] = t2\n",
    "    tl_list[3] = \")\"\n",
    "    tl_list[4] = t3\n",
    "    tl_list[5]=\"-\"\n",
    "    tl_list[6] = t4\n",
    "    tl_list[7]=\"-\"\n",
    "    tl_list[8] = t5\n",
    "    newtel = \"\".join(tl_list)\n",
    "    #простите, что так некрасиво\n",
    "    print(newtel)\n",
    "phone()"
   ]
  },
  {
   "cell_type": "markdown",
   "metadata": {},
   "source": [
    "    #### Zadanie 4"
   ]
  },
  {
   "cell_type": "code",
   "execution_count": null,
   "metadata": {},
   "outputs": [],
   "source": [
    "def frename():\n",
    "    files = ['file 1.txt', 'file 2.txt', 'file 6.txt', 'file 9.txt']\n",
    "    dic = {'file 1.txt':'file_1.txt', 'file 2.txt':'file_2.txt','file 3.txt':'file_3.txt', 'file 4.txt':'file_4.txt',\n",
    "    'file 5.txt':'file_5.txt', 'file 6.txt':'file_6.txt','file 7.txt':'file_7.txt','file 8.txt':'file_8.txt',\n",
    "                    'file 9.txt':'file_9.txt','file 10.txt':'file_10.txt'}\n",
    "    print([dic.get(n, n) for n in files])\n",
    "frename() "
   ]
  },
  {
   "cell_type": "markdown",
   "metadata": {},
   "source": [
    "    #### Zadanie 5"
   ]
  },
  {
   "cell_type": "code",
   "execution_count": null,
   "metadata": {},
   "outputs": [],
   "source": [
    "s = \"Hello Brave New World\\nThis is a test\"\n",
    "s1 = s.split()\n",
    "s2 = s1[4:8]\n",
    "s3 = s1[0:4]\n",
    "s2 = ' '.join(s2)\n",
    "s3.append(s2)\n",
    "print(s3)"
   ]
  },
  {
   "cell_type": "markdown",
   "metadata": {},
   "source": [
    "    #### Zadanie 6"
   ]
  },
  {
   "cell_type": "code",
   "execution_count": null,
   "metadata": {},
   "outputs": [],
   "source": [
    "def my_range():\n",
    "   x = int(input())\n",
    "   y = int(input())\n",
    "   z=[x1 for x1 in range(x,y+1)]\n",
    "   z1 = str(z)\n",
    "   z2 ='\\n'.join(z1)\n",
    "   print(z2)\n",
    "my_range()\n",
    "#я не разобрался как сделать иначе"
   ]
  },
  {
   "cell_type": "markdown",
   "metadata": {},
   "source": [
    "    #### Zadanie 7"
   ]
  },
  {
   "cell_type": "code",
   "execution_count": null,
   "metadata": {},
   "outputs": [],
   "source": [
    "def prod_n():\n",
    "    block = int(input('Введите количество кругов:\\n'))\n",
    "    terms = [] # empty list\n",
    "\n",
    "    for i in range(block):\n",
    "        var = int(input(\"Введите значения круга: \\n\"))\n",
    "        terms.append(var)\n",
    "    \n",
    "    from functools import reduce\n",
    "    z = reduce(lambda x, y: x*y, terms[0:100])\n",
    "    \n",
    "    print(z)\n",
    "prod_n()"
   ]
  },
  {
   "cell_type": "markdown",
   "metadata": {},
   "source": [
    "    #### Zadanie 8"
   ]
  },
  {
   "cell_type": "code",
   "execution_count": null,
   "metadata": {},
   "outputs": [],
   "source": [
    "n = int(input())\n",
    "f = 1\n",
    "if n < 0:\n",
    "   print(\"Факториала отрицательного числа не существует\")\n",
    "else:\n",
    "   for i in range(1,n + 1):\n",
    "       f = f*i\n",
    "   print(\"Факториал числа\",n,\"равен\",f)"
   ]
  },
  {
   "cell_type": "markdown",
   "metadata": {},
   "source": [
    "    #### Zadanie 9 (?)"
   ]
  },
  {
   "cell_type": "code",
   "execution_count": null,
   "metadata": {},
   "outputs": [],
   "source": [
    "#пытался найти рабочий код и не разобрался что такое функция \".next\"\n",
    "def fib_k():\n",
    "    amount = int(raw_input('Give amount: '))\n",
    "    def fib():\n",
    "        a, b = 0, 1\n",
    "        while 1:\n",
    "            yield a\n",
    "            a, b = b, a + b\n",
    "\n",
    "a = fib()\n",
    "a.next()\n",
    "0\n",
    "for i in range(amount):\n",
    "    print a.next(),\n",
    "fib_k()"
   ]
  },
  {
   "cell_type": "code",
   "execution_count": null,
   "metadata": {},
   "outputs": [],
   "source": [
    "a = int(input('Give amount: '))\n",
    "\n",
    "def fib():\n",
    "    a, b = 0, 1\n",
    "    while 1:\n",
    "        yield a\n",
    "        a, b = b, a + b\n",
    "        print(b)\n",
    "b = fib()\n",
    "b.next()\n",
    "\n",
    "for i in range(a):\n",
    "    print(b.next())"
   ]
  },
  {
   "cell_type": "markdown",
   "metadata": {},
   "source": [
    "    #### Zadanie 10 (?)"
   ]
  },
  {
   "cell_type": "code",
   "execution_count": null,
   "metadata": {},
   "outputs": [],
   "source": [
    "def mult_table():\n",
    "    n = int(input(\"Введите n: \"))\n",
    "    \n",
    "    c = ([i for i in range(n)])\n",
    "    c.append(n)\n",
    "    c.pop(0)\n",
    "    \n",
    "    \n",
    "    for i in c:\n",
    "        for j in c:\n",
    "            print(i*j)\n",
    "        print(\"\", end=\"\\n \")\n",
    "mult_table()\n",
    "\n",
    "#не получилось сделать в разные столбцы"
   ]
  }
 ],
 "metadata": {
  "kernelspec": {
   "display_name": "Python 3",
   "language": "python",
   "name": "python3"
  },
  "language_info": {
   "codemirror_mode": {
    "name": "ipython",
    "version": 3
   },
   "file_extension": ".py",
   "mimetype": "text/x-python",
   "name": "python",
   "nbconvert_exporter": "python",
   "pygments_lexer": "ipython3",
   "version": "3.6.6"
  }
 },
 "nbformat": 4,
 "nbformat_minor": 2
}
